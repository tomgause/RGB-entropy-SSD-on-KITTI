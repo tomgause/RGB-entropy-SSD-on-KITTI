{
 "cells": [
  {
   "cell_type": "code",
   "execution_count": 1,
   "id": "a947893c",
   "metadata": {
    "scrolled": true
   },
   "outputs": [],
   "source": [
    "import torch\n",
    "import torch.nn as nn\n",
    "\n",
    "\n",
    "input_shape = [1, 3, 192, 624]\n",
    "input = torch.empty(input_shape)\n",
    "\n",
    "\n",
    "layers = [\n",
    "    #Conv1_1, Conv1_2, Pool1\n",
    "    [nn.Conv2d(3, 64, kernel_size=3, padding=1), nn.BatchNorm2d(64), nn.ReLU()],\n",
    "    [nn.Conv2d(64, 64, kernel_size=3, padding=1), nn.BatchNorm2d(64), nn.ReLU()],\n",
    "    [nn.MaxPool2d(kernel_size=2), nn.BatchNorm2d(64), nn.ReLU()],\n",
    "    \n",
    "    #Conv2_1, Conv2_2, Pool2\n",
    "    [nn.Conv2d(64, 128, kernel_size=3, padding=1), nn.BatchNorm2d(128), nn.ReLU()],\n",
    "    [nn.Conv2d(128, 128, kernel_size=3, padding=1), nn.BatchNorm2d(128), nn.ReLU()],\n",
    "    [nn.MaxPool2d(kernel_size=2), nn.BatchNorm2d(128), nn.ReLU()],\n",
    "    \n",
    "    #Conv3_1, Conv3_2, Conv3_3, Pool3\n",
    "    [nn.Conv2d(128, 256, kernel_size=3, padding=1), nn.BatchNorm2d(256), nn.ReLU()],\n",
    "    [nn.Conv2d(256, 256, kernel_size=3, padding=1), nn.BatchNorm2d(256), nn.ReLU()],\n",
    "    [nn.Conv2d(256, 256, kernel_size=3, padding=1), nn.BatchNorm2d(256), nn.ReLU()],\n",
    "    [nn.MaxPool2d(kernel_size=2), nn.BatchNorm2d(256), nn.ReLU()],\n",
    "    \n",
    "    #Conv4_1, Conv4_2, Conv4_3, Conv4_4 FIRST SOURCE, Pool4\n",
    "    [nn.Conv2d(256, 512, kernel_size=3, padding=1), nn.BatchNorm2d(512), nn.ReLU()],\n",
    "    [nn.Conv2d(512, 512, kernel_size=3, padding=1), nn.BatchNorm2d(512), nn.ReLU()],\n",
    "    [nn.Conv2d(512, 512, kernel_size=3, padding=1), nn.BatchNorm2d(512), nn.ReLU()],\n",
    "    [nn.MaxPool2d(kernel_size=1), nn.BatchNorm2d(512), nn.ReLU()],\n",
    "    \n",
    "    #Conv5_1, Conv5_2, Conv5_3 SECOND SOURCE, Pool5\n",
    "    [nn.Conv2d(512, 512, kernel_size=3, padding=1), nn.BatchNorm2d(512), nn.ReLU()],\n",
    "    [nn.Conv2d(512, 512, kernel_size=3, padding=1), nn.BatchNorm2d(512), nn.ReLU()],\n",
    "    [nn.Conv2d(512, 512, kernel_size=3, padding=1), nn.BatchNorm2d(512), nn.ReLU()],\n",
    "    \n",
    "    #END OF STANDARD VGG, BEGINNING OF ADDITIONAL LAYERS\n",
    "    \n",
    "    #Conv6\n",
    "    [nn.Conv2d(512, 1024, kernel_size=3, stride=2, padding=1), nn.BatchNorm2d(1024), nn.ReLU()],\n",
    "    \n",
    "    #Conv7, THIRD SOURCE\n",
    "    [nn.Conv2d(1024, 1024, kernel_size=1), nn.BatchNorm2d(1024), nn.ReLU()],\n",
    "    \n",
    "    #Conv8_1, Conv8_2 FOURTH SOURCE\n",
    "    [nn.Conv2d(1024, 256, kernel_size=1), nn.BatchNorm2d(256), nn.ReLU()],\n",
    "    [nn.Conv2d(256, 512, kernel_size=3, padding=1), nn.BatchNorm2d(512), nn.ReLU()],\n",
    "    \n",
    "    #Conv9_1, Conv9_2 FIFTH SOURCE\n",
    "    [nn.Conv2d(512, 128, kernel_size=1), nn.BatchNorm2d(256), nn.ReLU()],\n",
    "    [nn.Conv2d(128, 256, kernel_size=3, stride=2, padding=1), nn.BatchNorm2d(256), nn.ReLU()],\n",
    "    \n",
    "    #Conv10_1, Conv10_2 SIXTH SOURCE\n",
    "    [nn.Conv2d(256, 128, kernel_size=1), nn.BatchNorm2d(128), nn.ReLU()],\n",
    "    [nn.Conv2d(128, 256, kernel_size=3, stride=2, padding=1), nn.BatchNorm2d(256), nn.ReLU()],\n",
    "]\n"
   ]
  },
  {
   "cell_type": "code",
   "execution_count": 2,
   "id": "9c1abe49",
   "metadata": {},
   "outputs": [
    {
     "name": "stdout",
     "output_type": "stream",
     "text": [
      "torch.Size([1, 64, 192, 624])\n",
      "torch.Size([1, 64, 192, 624])\n",
      "torch.Size([1, 64, 96, 312])\n",
      "torch.Size([1, 128, 96, 312])\n",
      "torch.Size([1, 128, 96, 312])\n",
      "torch.Size([1, 128, 48, 156])\n",
      "torch.Size([1, 256, 48, 156])\n",
      "torch.Size([1, 256, 48, 156])\n",
      "torch.Size([1, 256, 48, 156])\n",
      "torch.Size([1, 256, 24, 78])\n",
      "torch.Size([1, 512, 24, 78])\n",
      "torch.Size([1, 512, 24, 78])\n",
      "torch.Size([1, 512, 24, 78])\n",
      "torch.Size([1, 512, 24, 78])\n",
      "torch.Size([1, 512, 24, 78])\n",
      "torch.Size([1, 512, 24, 78])\n",
      "torch.Size([1, 512, 24, 78])\n",
      "torch.Size([1, 1024, 12, 39])\n",
      "torch.Size([1, 1024, 12, 39])\n",
      "torch.Size([1, 256, 12, 39])\n",
      "torch.Size([1, 512, 12, 39])\n",
      "torch.Size([1, 128, 12, 39])\n",
      "torch.Size([1, 256, 6, 20])\n",
      "torch.Size([1, 128, 6, 20])\n",
      "torch.Size([1, 256, 3, 10])\n"
     ]
    }
   ],
   "source": [
    "for i in range(len(layers)):\n",
    "    input = layers[i][0](input)\n",
    "    print(input.size())"
   ]
  },
  {
   "cell_type": "code",
   "execution_count": 3,
   "id": "ebcfdd91",
   "metadata": {},
   "outputs": [
    {
     "name": "stdout",
     "output_type": "stream",
     "text": [
      "2\n",
      "2\n",
      "2\n",
      "2\n",
      "2\n"
     ]
    }
   ],
   "source": [
    "test = [38, -1]\n",
    "\n",
    "vgg = [0,0,0,\n",
    "      0,0,0,\n",
    "       0,0,0,\n",
    "       \n",
    "       0,0,0,\n",
    "       0,0,0,\n",
    "       0,0,0,\n",
    "       \n",
    "       0,0,0,\n",
    "       0,0,0,\n",
    "       0,0,0,\n",
    "       0,0,0,\n",
    "       \n",
    "       0,0,0,\n",
    "       0,0,0,\n",
    "       1,1,2,\n",
    "       0,0,0,\n",
    "       \n",
    "       0,0,0,\n",
    "       0,0,0,\n",
    "       1,1,2\n",
    "      ]\n",
    "extra = [0,0,0,1,1,2,0,0,0,1,1,2,0,0,0,1,1,2]\n",
    "\n",
    "for k, v in enumerate(test):\n",
    "    print(vgg[v])\n",
    "    \n",
    "for k, v in enumerate(extra[5::6], 2):\n",
    "    print(v)"
   ]
  },
  {
   "cell_type": "code",
   "execution_count": 4,
   "id": "377a93f3",
   "metadata": {},
   "outputs": [
    {
     "ename": "RuntimeError",
     "evalue": "Given groups=1, weight of size [64, 3, 3, 3], expected input[1, 256, 3, 10] to have 3 channels, but got 256 channels instead",
     "output_type": "error",
     "traceback": [
      "\u001b[1;31m---------------------------------------------------------------------------\u001b[0m",
      "\u001b[1;31mRuntimeError\u001b[0m                              Traceback (most recent call last)",
      "\u001b[1;32m<ipython-input-4-945d004f177d>\u001b[0m in \u001b[0;36m<module>\u001b[1;34m\u001b[0m\n\u001b[0;32m      1\u001b[0m \u001b[1;31m#  [(24, 78), (24, 78), (12, 39), (12, 39), (6, 20), (3, 10)]\u001b[0m\u001b[1;33m\u001b[0m\u001b[1;33m\u001b[0m\u001b[1;33m\u001b[0m\u001b[0m\n\u001b[0;32m      2\u001b[0m \u001b[1;32mfor\u001b[0m \u001b[0mi\u001b[0m \u001b[1;32min\u001b[0m \u001b[0mrange\u001b[0m\u001b[1;33m(\u001b[0m\u001b[1;36m13\u001b[0m\u001b[1;33m)\u001b[0m\u001b[1;33m:\u001b[0m\u001b[1;33m\u001b[0m\u001b[1;33m\u001b[0m\u001b[0m\n\u001b[1;32m----> 3\u001b[1;33m     \u001b[0minput\u001b[0m \u001b[1;33m=\u001b[0m \u001b[0mlayers\u001b[0m\u001b[1;33m[\u001b[0m\u001b[0mi\u001b[0m\u001b[1;33m]\u001b[0m\u001b[1;33m[\u001b[0m\u001b[1;36m0\u001b[0m\u001b[1;33m]\u001b[0m\u001b[1;33m(\u001b[0m\u001b[0minput\u001b[0m\u001b[1;33m)\u001b[0m\u001b[1;33m\u001b[0m\u001b[1;33m\u001b[0m\u001b[0m\n\u001b[0m\u001b[0;32m      4\u001b[0m     \u001b[1;31m#if i == 12:\u001b[0m\u001b[1;33m\u001b[0m\u001b[1;33m\u001b[0m\u001b[1;33m\u001b[0m\u001b[0m\n\u001b[0;32m      5\u001b[0m     \u001b[1;31m#    print(\"LAYER: \", layers[i][0])\u001b[0m\u001b[1;33m\u001b[0m\u001b[1;33m\u001b[0m\u001b[1;33m\u001b[0m\u001b[0m\n",
      "\u001b[1;32m~\\Anaconda3\\envs\\torch-gpu\\lib\\site-packages\\torch\\nn\\modules\\module.py\u001b[0m in \u001b[0;36m_call_impl\u001b[1;34m(self, *input, **kwargs)\u001b[0m\n\u001b[0;32m    887\u001b[0m             \u001b[0mresult\u001b[0m \u001b[1;33m=\u001b[0m \u001b[0mself\u001b[0m\u001b[1;33m.\u001b[0m\u001b[0m_slow_forward\u001b[0m\u001b[1;33m(\u001b[0m\u001b[1;33m*\u001b[0m\u001b[0minput\u001b[0m\u001b[1;33m,\u001b[0m \u001b[1;33m**\u001b[0m\u001b[0mkwargs\u001b[0m\u001b[1;33m)\u001b[0m\u001b[1;33m\u001b[0m\u001b[1;33m\u001b[0m\u001b[0m\n\u001b[0;32m    888\u001b[0m         \u001b[1;32melse\u001b[0m\u001b[1;33m:\u001b[0m\u001b[1;33m\u001b[0m\u001b[1;33m\u001b[0m\u001b[0m\n\u001b[1;32m--> 889\u001b[1;33m             \u001b[0mresult\u001b[0m \u001b[1;33m=\u001b[0m \u001b[0mself\u001b[0m\u001b[1;33m.\u001b[0m\u001b[0mforward\u001b[0m\u001b[1;33m(\u001b[0m\u001b[1;33m*\u001b[0m\u001b[0minput\u001b[0m\u001b[1;33m,\u001b[0m \u001b[1;33m**\u001b[0m\u001b[0mkwargs\u001b[0m\u001b[1;33m)\u001b[0m\u001b[1;33m\u001b[0m\u001b[1;33m\u001b[0m\u001b[0m\n\u001b[0m\u001b[0;32m    890\u001b[0m         for hook in itertools.chain(\n\u001b[0;32m    891\u001b[0m                 \u001b[0m_global_forward_hooks\u001b[0m\u001b[1;33m.\u001b[0m\u001b[0mvalues\u001b[0m\u001b[1;33m(\u001b[0m\u001b[1;33m)\u001b[0m\u001b[1;33m,\u001b[0m\u001b[1;33m\u001b[0m\u001b[1;33m\u001b[0m\u001b[0m\n",
      "\u001b[1;32m~\\Anaconda3\\envs\\torch-gpu\\lib\\site-packages\\torch\\nn\\modules\\conv.py\u001b[0m in \u001b[0;36mforward\u001b[1;34m(self, input)\u001b[0m\n\u001b[0;32m    397\u001b[0m \u001b[1;33m\u001b[0m\u001b[0m\n\u001b[0;32m    398\u001b[0m     \u001b[1;32mdef\u001b[0m \u001b[0mforward\u001b[0m\u001b[1;33m(\u001b[0m\u001b[0mself\u001b[0m\u001b[1;33m,\u001b[0m \u001b[0minput\u001b[0m\u001b[1;33m:\u001b[0m \u001b[0mTensor\u001b[0m\u001b[1;33m)\u001b[0m \u001b[1;33m->\u001b[0m \u001b[0mTensor\u001b[0m\u001b[1;33m:\u001b[0m\u001b[1;33m\u001b[0m\u001b[1;33m\u001b[0m\u001b[0m\n\u001b[1;32m--> 399\u001b[1;33m         \u001b[1;32mreturn\u001b[0m \u001b[0mself\u001b[0m\u001b[1;33m.\u001b[0m\u001b[0m_conv_forward\u001b[0m\u001b[1;33m(\u001b[0m\u001b[0minput\u001b[0m\u001b[1;33m,\u001b[0m \u001b[0mself\u001b[0m\u001b[1;33m.\u001b[0m\u001b[0mweight\u001b[0m\u001b[1;33m,\u001b[0m \u001b[0mself\u001b[0m\u001b[1;33m.\u001b[0m\u001b[0mbias\u001b[0m\u001b[1;33m)\u001b[0m\u001b[1;33m\u001b[0m\u001b[1;33m\u001b[0m\u001b[0m\n\u001b[0m\u001b[0;32m    400\u001b[0m \u001b[1;33m\u001b[0m\u001b[0m\n\u001b[0;32m    401\u001b[0m \u001b[1;32mclass\u001b[0m \u001b[0mConv3d\u001b[0m\u001b[1;33m(\u001b[0m\u001b[0m_ConvNd\u001b[0m\u001b[1;33m)\u001b[0m\u001b[1;33m:\u001b[0m\u001b[1;33m\u001b[0m\u001b[1;33m\u001b[0m\u001b[0m\n",
      "\u001b[1;32m~\\Anaconda3\\envs\\torch-gpu\\lib\\site-packages\\torch\\nn\\modules\\conv.py\u001b[0m in \u001b[0;36m_conv_forward\u001b[1;34m(self, input, weight, bias)\u001b[0m\n\u001b[0;32m    393\u001b[0m                             \u001b[0mweight\u001b[0m\u001b[1;33m,\u001b[0m \u001b[0mbias\u001b[0m\u001b[1;33m,\u001b[0m \u001b[0mself\u001b[0m\u001b[1;33m.\u001b[0m\u001b[0mstride\u001b[0m\u001b[1;33m,\u001b[0m\u001b[1;33m\u001b[0m\u001b[1;33m\u001b[0m\u001b[0m\n\u001b[0;32m    394\u001b[0m                             _pair(0), self.dilation, self.groups)\n\u001b[1;32m--> 395\u001b[1;33m         return F.conv2d(input, weight, bias, self.stride,\n\u001b[0m\u001b[0;32m    396\u001b[0m                         self.padding, self.dilation, self.groups)\n\u001b[0;32m    397\u001b[0m \u001b[1;33m\u001b[0m\u001b[0m\n",
      "\u001b[1;31mRuntimeError\u001b[0m: Given groups=1, weight of size [64, 3, 3, 3], expected input[1, 256, 3, 10] to have 3 channels, but got 256 channels instead"
     ]
    }
   ],
   "source": [
    "#  [(24, 78), (24, 78), (12, 39), (12, 39), (6, 20), (3, 10)]\n",
    "for i in range(13):\n",
    "    input = layers[i][0](input)\n",
    "    #if i == 12:\n",
    "    #    print(\"LAYER: \", layers[i][0])\n",
    "    #    print(\"OUTPUT: \", input.size(), \"\\n\")\n",
    "        \n",
    "#  [(24, 78), (24, 78), (12, 39), (12, 39), (6, 20), (3, 10)]\n",
    "for i in range(13, 17):\n",
    "    input = layers[i][0](input)\n",
    "    #print(\"LAYER: \", layers[i][0])\n",
    "    #print(\"OUTPUT: \", input.size(), \"\\n\")\n",
    "    \n",
    "for i in range(17, 19):\n",
    "    input = layers[i][0](input)\n",
    "    \n",
    "for i in range(19, 21):\n",
    "    input = layers[i][0](input)\n",
    "    print(\"LAYER: \", layers[i][0])\n",
    "    print(\"OUTPUT: \", input.size(), \"\\n\")\n",
    "    \n",
    "for i in range(21, 23):\n",
    "    input = layers[i][0](input)\n",
    "    print(\"LAYER: \", layers[i][0])\n",
    "    print(\"OUTPUT: \", input.size(), \"\\n\")\n",
    "    \n",
    "for i in range(23, len(layers)):\n",
    "    input = layers[i][0](input)\n",
    "    print(\"LAYER: \", layers[i][0])\n",
    "    print(\"OUTPUT: \", input.size(), \"\\n\")"
   ]
  }
 ],
 "metadata": {
  "kernelspec": {
   "display_name": "Python 3",
   "language": "python",
   "name": "python3"
  },
  "language_info": {
   "codemirror_mode": {
    "name": "ipython",
    "version": 3
   },
   "file_extension": ".py",
   "mimetype": "text/x-python",
   "name": "python",
   "nbconvert_exporter": "python",
   "pygments_lexer": "ipython3",
   "version": "3.8.8"
  }
 },
 "nbformat": 4,
 "nbformat_minor": 5
}
